{
  "cells": [
    {
      "cell_type": "markdown",
      "metadata": {
        "colab_type": "text",
        "id": "view-in-github"
      },
      "source": [
        "<a href=\"https://colab.research.google.com/github/history-lab/foiarchive-api-python-example/blob/main/ex.ipynb\" target=\"_parent\"><img src=\"https://colab.research.google.com/assets/colab-badge.svg\" alt=\"Open In Colab\"/></a>"
      ]
    },
    {
      "cell_type": "code",
      "execution_count": 1,
      "metadata": {
        "id": "ouObdRkP__QE"
      },
      "outputs": [],
      "source": [
        "import requests\n",
        "import pandas as pd"
      ]
    },
    {
      "cell_type": "code",
      "execution_count": 2,
      "metadata": {
        "id": "jubSUYU3CJUR"
      },
      "outputs": [],
      "source": [
        "def call_api(api_url):\n",
        "    \"\"\"Call api_url and return results in a dataframe.\"\"\"\n",
        "    response = requests.get(api_url)\n",
        "    if response.status_code == 200:\n",
        "        return pd.DataFrame(response.json())\n",
        "    else:\n",
        "        print(f'{response.status_code} returned by {api_url}')\n"
      ]
    },
    {
      "cell_type": "markdown",
      "metadata": {
        "id": "8GgJCO5NCu0c"
      },
      "source": [
        "Queries expressed as API Calls"
      ]
    },
    {
      "cell_type": "code",
      "execution_count": 4,
      "metadata": {
        "id": "cMup-Ho-CpLJ"
      },
      "outputs": [],
      "source": [
        "pdb_cmc = (\"https://api.foiarchive.org/docs?\"\n",
        "           \"select=doc_id,corpus,classification,authored,title,body,source&\"\n",
        "           \"corpus=eq.briefing&authored=gte.1962-10-16&authored=lt.1962-10-28\")\n",
        "# Same date range, fewer data attributes, but reference Kruschev in text\n",
        "pdb_ck = (\"https://api.foiarchive.org/docs?\"\n",
        "           \"select=doc_id,authored,title,source&\"\n",
        "           \"corpus=eq.briefing&authored=gte.1962-10-16&authored=lt.1962-10-28&\"\n",
        "           \"full_text=wfts.khrushchev\")\n",
        "# Multi-collection query of documents mentioning hussein and rumsfeld\n",
        "drsh = (\"https://api.foiarchive.org/docs?\"\n",
        "        \"select=doc_id,corpus,authored,classification,title,body,\"\n",
        "        \"persons(full_name),countries(country_name)&\"\n",
        "        \"wfts.hussein%20rumsfeld\")\n"
      ]
    },
    {
      "cell_type": "markdown",
      "metadata": {
        "id": "q57znUyjEUr1"
      },
      "source": [
        "Call the FOIArchive API and show the results"
      ]
    },
    {
      "cell_type": "code",
      "execution_count": 5,
      "metadata": {
        "id": "3cctPwcUDaVL"
      },
      "outputs": [],
      "source": [
        "df = call_api(pdb_cmc)"
      ]
    },
    {
      "cell_type": "code",
      "execution_count": 6,
      "metadata": {
        "colab": {
          "base_uri": "https://localhost:8080/",
          "height": 678
        },
        "id": "pt4i5LacDzJq",
        "outputId": "952906a3-c12d-4c8f-f2a6-b9c58e29e3cf"
      },
      "outputs": [
        {
          "data": {
            "text/html": [
              "<div>\n",
              "<style scoped>\n",
              "    .dataframe tbody tr th:only-of-type {\n",
              "        vertical-align: middle;\n",
              "    }\n",
              "\n",
              "    .dataframe tbody tr th {\n",
              "        vertical-align: top;\n",
              "    }\n",
              "\n",
              "    .dataframe thead th {\n",
              "        text-align: right;\n",
              "    }\n",
              "</style>\n",
              "<table border=\"1\" class=\"dataframe\">\n",
              "  <thead>\n",
              "    <tr style=\"text-align: right;\">\n",
              "      <th></th>\n",
              "      <th>doc_id</th>\n",
              "      <th>corpus</th>\n",
              "      <th>classification</th>\n",
              "      <th>authored</th>\n",
              "      <th>title</th>\n",
              "      <th>body</th>\n",
              "      <th>source</th>\n",
              "    </tr>\n",
              "  </thead>\n",
              "  <tbody>\n",
              "    <tr>\n",
              "      <th>0</th>\n",
              "      <td>DOC_0005996005</td>\n",
              "      <td>briefing</td>\n",
              "      <td>top secret</td>\n",
              "      <td>1962-10-27T00:00:00+00:00</td>\n",
              "      <td>THE PRESIDENT'S INTELLIGENCE CHECKLIST 27 OCTO...</td>\n",
              "      <td>Declassified in Part Sanitized Copy Approved f...</td>\n",
              "      <td>https://www.cia.gov/readingroom/docs/DOC_00059...</td>\n",
              "    </tr>\n",
              "    <tr>\n",
              "      <th>1</th>\n",
              "      <td>DOC_0005995993</td>\n",
              "      <td>briefing</td>\n",
              "      <td>top secret</td>\n",
              "      <td>1962-10-21T00:00:00+00:00</td>\n",
              "      <td>THE PRESIDENT'S INTELLIGENCE CHECKLIST 21 OCTO...</td>\n",
              "      <td>| ee ee Declassified in Part Sanitized Copy Ap...</td>\n",
              "      <td>https://www.cia.gov/readingroom/docs/DOC_00059...</td>\n",
              "    </tr>\n",
              "    <tr>\n",
              "      <th>2</th>\n",
              "      <td>DOC_0005996003</td>\n",
              "      <td>briefing</td>\n",
              "      <td>top secret</td>\n",
              "      <td>1962-10-26T00:00:00+00:00</td>\n",
              "      <td>THE PRESIDENT'S INTELLIGENCE CHECKLIST 26 OCTO...</td>\n",
              "      <td>et ee Declassified in Part Sanitized Copy App...</td>\n",
              "      <td>https://www.cia.gov/readingroom/docs/DOC_00059...</td>\n",
              "    </tr>\n",
              "    <tr>\n",
              "      <th>3</th>\n",
              "      <td>DOC_0005995999</td>\n",
              "      <td>briefing</td>\n",
              "      <td>top secret</td>\n",
              "      <td>1962-10-24T00:00:00+00:00</td>\n",
              "      <td>THE PRESIDENT'S INTELLIGENCE CHECKLIST 24 OCTO...</td>\n",
              "      <td>SS SS SS SS SS SS SS SS SS ECS Declassified in...</td>\n",
              "      <td>https://www.cia.gov/readingroom/docs/DOC_00059...</td>\n",
              "    </tr>\n",
              "    <tr>\n",
              "      <th>4</th>\n",
              "      <td>DOC_0005996001</td>\n",
              "      <td>briefing</td>\n",
              "      <td>top secret</td>\n",
              "      <td>1962-10-25T00:00:00+00:00</td>\n",
              "      <td>THE PRESIDENT'S INTELLIGENCE CHECKLIST 25 OCTO...</td>\n",
              "      <td>SS SS oS oS SS oS WSS aS a SS SS ii S| Pees ee...</td>\n",
              "      <td>https://www.cia.gov/readingroom/docs/DOC_00059...</td>\n",
              "    </tr>\n",
              "    <tr>\n",
              "      <th>5</th>\n",
              "      <td>DOC_0005995991</td>\n",
              "      <td>briefing</td>\n",
              "      <td>top secret</td>\n",
              "      <td>1962-10-20T00:00:00+00:00</td>\n",
              "      <td>THE PRESIDENT'S INTELLIGENCE CHECKLIST 20 OCTO...</td>\n",
              "      <td>OUTGOING MESSAGE THE WHITE HousE oO WHASA SS 1...</td>\n",
              "      <td>https://www.cia.gov/readingroom/docs/DOC_00059...</td>\n",
              "    </tr>\n",
              "    <tr>\n",
              "      <th>6</th>\n",
              "      <td>DOC_0005995989</td>\n",
              "      <td>briefing</td>\n",
              "      <td>top secret</td>\n",
              "      <td>1962-10-19T00:00:00+00:00</td>\n",
              "      <td>THE PRESIDENT'S INTELLIGENCE CHECKLIST 19 OCTO...</td>\n",
              "      <td>Declassified in Part Sanitized Copy Approved ...</td>\n",
              "      <td>https://www.cia.gov/readingroom/docs/DOC_00059...</td>\n",
              "    </tr>\n",
              "    <tr>\n",
              "      <th>7</th>\n",
              "      <td>DOC_0005995995</td>\n",
              "      <td>briefing</td>\n",
              "      <td>top secret</td>\n",
              "      <td>1962-10-22T00:00:00+00:00</td>\n",
              "      <td>THE PRESIDENT'S INTELLIGENCE CHECKLIST 22 OCTO...</td>\n",
              "      <td>i a 2 Declassified in Part Sanitized Copy Appr...</td>\n",
              "      <td>https://www.cia.gov/readingroom/docs/DOC_00059...</td>\n",
              "    </tr>\n",
              "    <tr>\n",
              "      <th>8</th>\n",
              "      <td>DOC_0005995985</td>\n",
              "      <td>briefing</td>\n",
              "      <td>top secret</td>\n",
              "      <td>1962-10-17T00:00:00+00:00</td>\n",
              "      <td>THE PRESIDENT'S INTELLIGENCE CHECKLIST 17 OCTO...</td>\n",
              "      <td>‘Cl Ge OS Go ce ce es ee es ee es ee ee ee ee...</td>\n",
              "      <td>https://www.cia.gov/readingroom/docs/DOC_00059...</td>\n",
              "    </tr>\n",
              "    <tr>\n",
              "      <th>9</th>\n",
              "      <td>DOC_0005995983</td>\n",
              "      <td>briefing</td>\n",
              "      <td>top secret</td>\n",
              "      <td>1962-10-16T00:00:00+00:00</td>\n",
              "      <td>THE PRESIDENT'S INTELLIGENCE CHECKLIST 16 OCTO...</td>\n",
              "      <td>eS Sa Ss Fs wwe Fea eS SS SS FSS aS OOS SS oe ...</td>\n",
              "      <td>https://www.cia.gov/readingroom/docs/DOC_00059...</td>\n",
              "    </tr>\n",
              "    <tr>\n",
              "      <th>10</th>\n",
              "      <td>DOC_0005995997</td>\n",
              "      <td>briefing</td>\n",
              "      <td>top secret</td>\n",
              "      <td>1962-10-23T00:00:00+00:00</td>\n",
              "      <td>THE PRESIDENT'S INTELLIGENCE CHECKLIST 23 OCTO...</td>\n",
              "      <td>eS Fe ee ee Declassified in Part Sanitized Cop...</td>\n",
              "      <td>https://www.cia.gov/readingroom/docs/DOC_00059...</td>\n",
              "    </tr>\n",
              "    <tr>\n",
              "      <th>11</th>\n",
              "      <td>DOC_0005995987</td>\n",
              "      <td>briefing</td>\n",
              "      <td>top secret</td>\n",
              "      <td>1962-10-18T00:00:00+00:00</td>\n",
              "      <td>THE PRESIDENT'S INTELLIGENCE CHECKLIST 18 OCTO...</td>\n",
              "      <td>——— a Fe Declassified in Part Sanitized Copy A...</td>\n",
              "      <td>https://www.cia.gov/readingroom/docs/DOC_00059...</td>\n",
              "    </tr>\n",
              "  </tbody>\n",
              "</table>\n",
              "</div>"
            ],
            "text/plain": [
              "            doc_id    corpus classification                   authored  \\\n",
              "0   DOC_0005996005  briefing     top secret  1962-10-27T00:00:00+00:00   \n",
              "1   DOC_0005995993  briefing     top secret  1962-10-21T00:00:00+00:00   \n",
              "2   DOC_0005996003  briefing     top secret  1962-10-26T00:00:00+00:00   \n",
              "3   DOC_0005995999  briefing     top secret  1962-10-24T00:00:00+00:00   \n",
              "4   DOC_0005996001  briefing     top secret  1962-10-25T00:00:00+00:00   \n",
              "5   DOC_0005995991  briefing     top secret  1962-10-20T00:00:00+00:00   \n",
              "6   DOC_0005995989  briefing     top secret  1962-10-19T00:00:00+00:00   \n",
              "7   DOC_0005995995  briefing     top secret  1962-10-22T00:00:00+00:00   \n",
              "8   DOC_0005995985  briefing     top secret  1962-10-17T00:00:00+00:00   \n",
              "9   DOC_0005995983  briefing     top secret  1962-10-16T00:00:00+00:00   \n",
              "10  DOC_0005995997  briefing     top secret  1962-10-23T00:00:00+00:00   \n",
              "11  DOC_0005995987  briefing     top secret  1962-10-18T00:00:00+00:00   \n",
              "\n",
              "                                                title  \\\n",
              "0   THE PRESIDENT'S INTELLIGENCE CHECKLIST 27 OCTO...   \n",
              "1   THE PRESIDENT'S INTELLIGENCE CHECKLIST 21 OCTO...   \n",
              "2   THE PRESIDENT'S INTELLIGENCE CHECKLIST 26 OCTO...   \n",
              "3   THE PRESIDENT'S INTELLIGENCE CHECKLIST 24 OCTO...   \n",
              "4   THE PRESIDENT'S INTELLIGENCE CHECKLIST 25 OCTO...   \n",
              "5   THE PRESIDENT'S INTELLIGENCE CHECKLIST 20 OCTO...   \n",
              "6   THE PRESIDENT'S INTELLIGENCE CHECKLIST 19 OCTO...   \n",
              "7   THE PRESIDENT'S INTELLIGENCE CHECKLIST 22 OCTO...   \n",
              "8   THE PRESIDENT'S INTELLIGENCE CHECKLIST 17 OCTO...   \n",
              "9   THE PRESIDENT'S INTELLIGENCE CHECKLIST 16 OCTO...   \n",
              "10  THE PRESIDENT'S INTELLIGENCE CHECKLIST 23 OCTO...   \n",
              "11  THE PRESIDENT'S INTELLIGENCE CHECKLIST 18 OCTO...   \n",
              "\n",
              "                                                 body  \\\n",
              "0   Declassified in Part Sanitized Copy Approved f...   \n",
              "1   | ee ee Declassified in Part Sanitized Copy Ap...   \n",
              "2    et ee Declassified in Part Sanitized Copy App...   \n",
              "3   SS SS SS SS SS SS SS SS SS ECS Declassified in...   \n",
              "4   SS SS oS oS SS oS WSS aS a SS SS ii S| Pees ee...   \n",
              "5   OUTGOING MESSAGE THE WHITE HousE oO WHASA SS 1...   \n",
              "6    Declassified in Part Sanitized Copy Approved ...   \n",
              "7   i a 2 Declassified in Part Sanitized Copy Appr...   \n",
              "8    ‘Cl Ge OS Go ce ce es ee es ee es ee ee ee ee...   \n",
              "9   eS Sa Ss Fs wwe Fea eS SS SS FSS aS OOS SS oe ...   \n",
              "10  eS Fe ee ee Declassified in Part Sanitized Cop...   \n",
              "11  ——— a Fe Declassified in Part Sanitized Copy A...   \n",
              "\n",
              "                                               source  \n",
              "0   https://www.cia.gov/readingroom/docs/DOC_00059...  \n",
              "1   https://www.cia.gov/readingroom/docs/DOC_00059...  \n",
              "2   https://www.cia.gov/readingroom/docs/DOC_00059...  \n",
              "3   https://www.cia.gov/readingroom/docs/DOC_00059...  \n",
              "4   https://www.cia.gov/readingroom/docs/DOC_00059...  \n",
              "5   https://www.cia.gov/readingroom/docs/DOC_00059...  \n",
              "6   https://www.cia.gov/readingroom/docs/DOC_00059...  \n",
              "7   https://www.cia.gov/readingroom/docs/DOC_00059...  \n",
              "8   https://www.cia.gov/readingroom/docs/DOC_00059...  \n",
              "9   https://www.cia.gov/readingroom/docs/DOC_00059...  \n",
              "10  https://www.cia.gov/readingroom/docs/DOC_00059...  \n",
              "11  https://www.cia.gov/readingroom/docs/DOC_00059...  "
            ]
          },
          "execution_count": 6,
          "metadata": {},
          "output_type": "execute_result"
        }
      ],
      "source": [
        "df"
      ]
    },
    {
      "cell_type": "markdown",
      "metadata": {
        "id": "NkHsSKkmFEz5"
      },
      "source": [
        "Try other calls and process the dataframe as you see fit"
      ]
    }
  ],
  "metadata": {
    "colab": {
      "authorship_tag": "ABX9TyMrLjKKv2OheIWijMQomGKM",
      "include_colab_link": true,
      "provenance": []
    },
    "kernelspec": {
      "display_name": "Python 3",
      "name": "python3"
    },
    "language_info": {
      "codemirror_mode": {
        "name": "ipython",
        "version": 3
      },
      "file_extension": ".py",
      "mimetype": "text/x-python",
      "name": "python",
      "nbconvert_exporter": "python",
      "pygments_lexer": "ipython3",
      "version": "3.9.9"
    }
  },
  "nbformat": 4,
  "nbformat_minor": 0
}
